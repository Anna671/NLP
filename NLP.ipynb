{
  "nbformat": 4,
  "nbformat_minor": 0,
  "metadata": {
    "kernelspec": {
      "language": "python",
      "display_name": "Python 3",
      "name": "python3"
    },
    "language_info": {
      "name": "python",
      "version": "3.7.10",
      "mimetype": "text/x-python",
      "codemirror_mode": {
        "name": "ipython",
        "version": 3
      },
      "pygments_lexer": "ipython3",
      "nbconvert_exporter": "python",
      "file_extension": ".py"
    },
    "colab": {
      "name": "NLP.ipynb",
      "provenance": [],
      "include_colab_link": true
    }
  },
  "cells": [
    {
      "cell_type": "markdown",
      "metadata": {
        "id": "view-in-github",
        "colab_type": "text"
      },
      "source": [
        "<a href=\"https://colab.research.google.com/github/Anna671/NLP/blob/main/NLP.ipynb\" target=\"_parent\"><img src=\"https://colab.research.google.com/assets/colab-badge.svg\" alt=\"Open In Colab\"/></a>"
      ]
    },
    {
      "cell_type": "code",
      "metadata": {
        "_uuid": "8f2839f25d086af736a60e9eeb907d3b93b6e0e5",
        "_cell_guid": "b1076dfc-b9ad-4769-8c92-a6c4dae69d19",
        "trusted": true,
        "id": "4y8MqrWtaF_x"
      },
      "source": [
        "# This Python 3 environment comes with many helpful analytics libraries installed\n",
        "# It is defined by the kaggle/python Docker image: https://github.com/kaggle/docker-python\n",
        "# For example, here's several helpful packages to load\n",
        "\n",
        "import numpy as np # linear algebra\n",
        "import pandas as pd # data processing, CSV file I/O (e.g. pd.read_csv)\n",
        "\n",
        "# Input data files are available in the read-only \"../input/\" directory\n",
        "# For example, running this (by clicking run or pressing Shift+Enter) will list all files under the input directory\n",
        "\n",
        "import os\n",
        "for dirname, _, filenames in os.walk('/kaggle/input'):\n",
        "    for filename in filenames:\n",
        "        print(os.path.join(dirname, filename))\n",
        "\n",
        "# You can write up to 20GB to the current directory (/kaggle/working/) that gets preserved as output when you create a version using \"Save & Run All\" \n",
        "# You can also write temporary files to /kaggle/temp/, but they won't be saved outside of the current session"
      ],
      "execution_count": null,
      "outputs": []
    },
    {
      "cell_type": "code",
      "metadata": {
        "execution": {
          "iopub.status.busy": "2021-06-08T12:50:21.986724Z",
          "iopub.execute_input": "2021-06-08T12:50:21.987175Z",
          "iopub.status.idle": "2021-06-08T12:50:21.992223Z",
          "shell.execute_reply.started": "2021-06-08T12:50:21.987145Z",
          "shell.execute_reply": "2021-06-08T12:50:21.991289Z"
        },
        "trusted": true,
        "id": "EbVyjCkdaF_2"
      },
      "source": [
        "#Importing libraries \n",
        "import pandas as pd\n",
        "import numpy as np\n",
        "import tensorflow as tf\n",
        "import keras.backend as K\n",
        "from keras.preprocessing import sequence\n",
        "from keras.models import Sequential\n",
        "from keras.layers import Dense, Activation, Embedding\n",
        "from keras.layers import LSTM, GRU, SimpleRNN\n",
        "from keras.datasets import imdb"
      ],
      "execution_count": null,
      "outputs": []
    },
    {
      "cell_type": "code",
      "metadata": {
        "execution": {
          "iopub.status.busy": "2021-06-08T12:50:22.263541Z",
          "iopub.execute_input": "2021-06-08T12:50:22.263882Z",
          "iopub.status.idle": "2021-06-08T12:50:22.267259Z",
          "shell.execute_reply.started": "2021-06-08T12:50:22.263857Z",
          "shell.execute_reply": "2021-06-08T12:50:22.266607Z"
        },
        "trusted": true,
        "id": "xjidInP_aF_2"
      },
      "source": [
        "from keras.callbacks import History"
      ],
      "execution_count": null,
      "outputs": []
    },
    {
      "cell_type": "code",
      "metadata": {
        "execution": {
          "iopub.status.busy": "2021-06-08T12:50:22.485022Z",
          "iopub.execute_input": "2021-06-08T12:50:22.485488Z",
          "iopub.status.idle": "2021-06-08T12:50:22.488795Z",
          "shell.execute_reply.started": "2021-06-08T12:50:22.485457Z",
          "shell.execute_reply": "2021-06-08T12:50:22.488121Z"
        },
        "trusted": true,
        "id": "hOhB8hlzaF_3"
      },
      "source": [
        "history = History()"
      ],
      "execution_count": null,
      "outputs": []
    },
    {
      "cell_type": "code",
      "metadata": {
        "execution": {
          "iopub.status.busy": "2021-06-08T12:50:22.716663Z",
          "iopub.execute_input": "2021-06-08T12:50:22.717105Z",
          "iopub.status.idle": "2021-06-08T12:50:22.746774Z",
          "shell.execute_reply.started": "2021-06-08T12:50:22.717074Z",
          "shell.execute_reply": "2021-06-08T12:50:22.745822Z"
        },
        "trusted": true,
        "id": "yY_TdJ7SaF_3"
      },
      "source": [
        "df = pd.read_csv('../input/nlp-getting-started/train.csv')"
      ],
      "execution_count": null,
      "outputs": []
    },
    {
      "cell_type": "code",
      "metadata": {
        "execution": {
          "iopub.status.busy": "2021-06-08T12:50:22.937786Z",
          "iopub.execute_input": "2021-06-08T12:50:22.938095Z",
          "iopub.status.idle": "2021-06-08T12:50:22.952963Z",
          "shell.execute_reply.started": "2021-06-08T12:50:22.938068Z",
          "shell.execute_reply": "2021-06-08T12:50:22.952300Z"
        },
        "trusted": true,
        "id": "KuAsxfJwaF_4",
        "outputId": "0ded3509-4c6b-416d-b370-d0263c9e98c5"
      },
      "source": [
        "df"
      ],
      "execution_count": null,
      "outputs": [
        {
          "output_type": "execute_result",
          "data": {
            "text/plain": [
              "         id keyword location  \\\n",
              "0         1     NaN      NaN   \n",
              "1         4     NaN      NaN   \n",
              "2         5     NaN      NaN   \n",
              "3         6     NaN      NaN   \n",
              "4         7     NaN      NaN   \n",
              "...     ...     ...      ...   \n",
              "7608  10869     NaN      NaN   \n",
              "7609  10870     NaN      NaN   \n",
              "7610  10871     NaN      NaN   \n",
              "7611  10872     NaN      NaN   \n",
              "7612  10873     NaN      NaN   \n",
              "\n",
              "                                                   text  target  \n",
              "0     Our Deeds are the Reason of this #earthquake M...       1  \n",
              "1                Forest fire near La Ronge Sask. Canada       1  \n",
              "2     All residents asked to 'shelter in place' are ...       1  \n",
              "3     13,000 people receive #wildfires evacuation or...       1  \n",
              "4     Just got sent this photo from Ruby #Alaska as ...       1  \n",
              "...                                                 ...     ...  \n",
              "7608  Two giant cranes holding a bridge collapse int...       1  \n",
              "7609  @aria_ahrary @TheTawniest The out of control w...       1  \n",
              "7610  M1.94 [01:04 UTC]?5km S of Volcano Hawaii. htt...       1  \n",
              "7611  Police investigating after an e-bike collided ...       1  \n",
              "7612  The Latest: More Homes Razed by Northern Calif...       1  \n",
              "\n",
              "[7613 rows x 5 columns]"
            ],
            "text/html": [
              "<div>\n",
              "<style scoped>\n",
              "    .dataframe tbody tr th:only-of-type {\n",
              "        vertical-align: middle;\n",
              "    }\n",
              "\n",
              "    .dataframe tbody tr th {\n",
              "        vertical-align: top;\n",
              "    }\n",
              "\n",
              "    .dataframe thead th {\n",
              "        text-align: right;\n",
              "    }\n",
              "</style>\n",
              "<table border=\"1\" class=\"dataframe\">\n",
              "  <thead>\n",
              "    <tr style=\"text-align: right;\">\n",
              "      <th></th>\n",
              "      <th>id</th>\n",
              "      <th>keyword</th>\n",
              "      <th>location</th>\n",
              "      <th>text</th>\n",
              "      <th>target</th>\n",
              "    </tr>\n",
              "  </thead>\n",
              "  <tbody>\n",
              "    <tr>\n",
              "      <th>0</th>\n",
              "      <td>1</td>\n",
              "      <td>NaN</td>\n",
              "      <td>NaN</td>\n",
              "      <td>Our Deeds are the Reason of this #earthquake M...</td>\n",
              "      <td>1</td>\n",
              "    </tr>\n",
              "    <tr>\n",
              "      <th>1</th>\n",
              "      <td>4</td>\n",
              "      <td>NaN</td>\n",
              "      <td>NaN</td>\n",
              "      <td>Forest fire near La Ronge Sask. Canada</td>\n",
              "      <td>1</td>\n",
              "    </tr>\n",
              "    <tr>\n",
              "      <th>2</th>\n",
              "      <td>5</td>\n",
              "      <td>NaN</td>\n",
              "      <td>NaN</td>\n",
              "      <td>All residents asked to 'shelter in place' are ...</td>\n",
              "      <td>1</td>\n",
              "    </tr>\n",
              "    <tr>\n",
              "      <th>3</th>\n",
              "      <td>6</td>\n",
              "      <td>NaN</td>\n",
              "      <td>NaN</td>\n",
              "      <td>13,000 people receive #wildfires evacuation or...</td>\n",
              "      <td>1</td>\n",
              "    </tr>\n",
              "    <tr>\n",
              "      <th>4</th>\n",
              "      <td>7</td>\n",
              "      <td>NaN</td>\n",
              "      <td>NaN</td>\n",
              "      <td>Just got sent this photo from Ruby #Alaska as ...</td>\n",
              "      <td>1</td>\n",
              "    </tr>\n",
              "    <tr>\n",
              "      <th>...</th>\n",
              "      <td>...</td>\n",
              "      <td>...</td>\n",
              "      <td>...</td>\n",
              "      <td>...</td>\n",
              "      <td>...</td>\n",
              "    </tr>\n",
              "    <tr>\n",
              "      <th>7608</th>\n",
              "      <td>10869</td>\n",
              "      <td>NaN</td>\n",
              "      <td>NaN</td>\n",
              "      <td>Two giant cranes holding a bridge collapse int...</td>\n",
              "      <td>1</td>\n",
              "    </tr>\n",
              "    <tr>\n",
              "      <th>7609</th>\n",
              "      <td>10870</td>\n",
              "      <td>NaN</td>\n",
              "      <td>NaN</td>\n",
              "      <td>@aria_ahrary @TheTawniest The out of control w...</td>\n",
              "      <td>1</td>\n",
              "    </tr>\n",
              "    <tr>\n",
              "      <th>7610</th>\n",
              "      <td>10871</td>\n",
              "      <td>NaN</td>\n",
              "      <td>NaN</td>\n",
              "      <td>M1.94 [01:04 UTC]?5km S of Volcano Hawaii. htt...</td>\n",
              "      <td>1</td>\n",
              "    </tr>\n",
              "    <tr>\n",
              "      <th>7611</th>\n",
              "      <td>10872</td>\n",
              "      <td>NaN</td>\n",
              "      <td>NaN</td>\n",
              "      <td>Police investigating after an e-bike collided ...</td>\n",
              "      <td>1</td>\n",
              "    </tr>\n",
              "    <tr>\n",
              "      <th>7612</th>\n",
              "      <td>10873</td>\n",
              "      <td>NaN</td>\n",
              "      <td>NaN</td>\n",
              "      <td>The Latest: More Homes Razed by Northern Calif...</td>\n",
              "      <td>1</td>\n",
              "    </tr>\n",
              "  </tbody>\n",
              "</table>\n",
              "<p>7613 rows × 5 columns</p>\n",
              "</div>"
            ]
          },
          "metadata": {
            "tags": []
          },
          "execution_count": 79
        }
      ]
    },
    {
      "cell_type": "code",
      "metadata": {
        "execution": {
          "iopub.status.busy": "2021-06-08T12:50:23.163734Z",
          "iopub.execute_input": "2021-06-08T12:50:23.164225Z",
          "iopub.status.idle": "2021-06-08T12:50:23.170786Z",
          "shell.execute_reply.started": "2021-06-08T12:50:23.164166Z",
          "shell.execute_reply": "2021-06-08T12:50:23.170142Z"
        },
        "trusted": true,
        "id": "_lfSJ_VwaF_5"
      },
      "source": [
        "#Deleting columns\n",
        "df.drop(['keyword', 'location'], axis=1, inplace=True)"
      ],
      "execution_count": null,
      "outputs": []
    },
    {
      "cell_type": "code",
      "metadata": {
        "execution": {
          "iopub.status.busy": "2021-06-08T12:50:23.394028Z",
          "iopub.execute_input": "2021-06-08T12:50:23.394525Z",
          "iopub.status.idle": "2021-06-08T12:50:23.406676Z",
          "shell.execute_reply.started": "2021-06-08T12:50:23.394481Z",
          "shell.execute_reply": "2021-06-08T12:50:23.405804Z"
        },
        "trusted": true,
        "id": "fH0ytAkFaF_5",
        "outputId": "e4d2e0c4-1552-4e1f-b212-8a06bb2e5086"
      },
      "source": [
        "df"
      ],
      "execution_count": null,
      "outputs": [
        {
          "output_type": "execute_result",
          "data": {
            "text/plain": [
              "         id                                               text  target\n",
              "0         1  Our Deeds are the Reason of this #earthquake M...       1\n",
              "1         4             Forest fire near La Ronge Sask. Canada       1\n",
              "2         5  All residents asked to 'shelter in place' are ...       1\n",
              "3         6  13,000 people receive #wildfires evacuation or...       1\n",
              "4         7  Just got sent this photo from Ruby #Alaska as ...       1\n",
              "...     ...                                                ...     ...\n",
              "7608  10869  Two giant cranes holding a bridge collapse int...       1\n",
              "7609  10870  @aria_ahrary @TheTawniest The out of control w...       1\n",
              "7610  10871  M1.94 [01:04 UTC]?5km S of Volcano Hawaii. htt...       1\n",
              "7611  10872  Police investigating after an e-bike collided ...       1\n",
              "7612  10873  The Latest: More Homes Razed by Northern Calif...       1\n",
              "\n",
              "[7613 rows x 3 columns]"
            ],
            "text/html": [
              "<div>\n",
              "<style scoped>\n",
              "    .dataframe tbody tr th:only-of-type {\n",
              "        vertical-align: middle;\n",
              "    }\n",
              "\n",
              "    .dataframe tbody tr th {\n",
              "        vertical-align: top;\n",
              "    }\n",
              "\n",
              "    .dataframe thead th {\n",
              "        text-align: right;\n",
              "    }\n",
              "</style>\n",
              "<table border=\"1\" class=\"dataframe\">\n",
              "  <thead>\n",
              "    <tr style=\"text-align: right;\">\n",
              "      <th></th>\n",
              "      <th>id</th>\n",
              "      <th>text</th>\n",
              "      <th>target</th>\n",
              "    </tr>\n",
              "  </thead>\n",
              "  <tbody>\n",
              "    <tr>\n",
              "      <th>0</th>\n",
              "      <td>1</td>\n",
              "      <td>Our Deeds are the Reason of this #earthquake M...</td>\n",
              "      <td>1</td>\n",
              "    </tr>\n",
              "    <tr>\n",
              "      <th>1</th>\n",
              "      <td>4</td>\n",
              "      <td>Forest fire near La Ronge Sask. Canada</td>\n",
              "      <td>1</td>\n",
              "    </tr>\n",
              "    <tr>\n",
              "      <th>2</th>\n",
              "      <td>5</td>\n",
              "      <td>All residents asked to 'shelter in place' are ...</td>\n",
              "      <td>1</td>\n",
              "    </tr>\n",
              "    <tr>\n",
              "      <th>3</th>\n",
              "      <td>6</td>\n",
              "      <td>13,000 people receive #wildfires evacuation or...</td>\n",
              "      <td>1</td>\n",
              "    </tr>\n",
              "    <tr>\n",
              "      <th>4</th>\n",
              "      <td>7</td>\n",
              "      <td>Just got sent this photo from Ruby #Alaska as ...</td>\n",
              "      <td>1</td>\n",
              "    </tr>\n",
              "    <tr>\n",
              "      <th>...</th>\n",
              "      <td>...</td>\n",
              "      <td>...</td>\n",
              "      <td>...</td>\n",
              "    </tr>\n",
              "    <tr>\n",
              "      <th>7608</th>\n",
              "      <td>10869</td>\n",
              "      <td>Two giant cranes holding a bridge collapse int...</td>\n",
              "      <td>1</td>\n",
              "    </tr>\n",
              "    <tr>\n",
              "      <th>7609</th>\n",
              "      <td>10870</td>\n",
              "      <td>@aria_ahrary @TheTawniest The out of control w...</td>\n",
              "      <td>1</td>\n",
              "    </tr>\n",
              "    <tr>\n",
              "      <th>7610</th>\n",
              "      <td>10871</td>\n",
              "      <td>M1.94 [01:04 UTC]?5km S of Volcano Hawaii. htt...</td>\n",
              "      <td>1</td>\n",
              "    </tr>\n",
              "    <tr>\n",
              "      <th>7611</th>\n",
              "      <td>10872</td>\n",
              "      <td>Police investigating after an e-bike collided ...</td>\n",
              "      <td>1</td>\n",
              "    </tr>\n",
              "    <tr>\n",
              "      <th>7612</th>\n",
              "      <td>10873</td>\n",
              "      <td>The Latest: More Homes Razed by Northern Calif...</td>\n",
              "      <td>1</td>\n",
              "    </tr>\n",
              "  </tbody>\n",
              "</table>\n",
              "<p>7613 rows × 3 columns</p>\n",
              "</div>"
            ]
          },
          "metadata": {
            "tags": []
          },
          "execution_count": 81
        }
      ]
    },
    {
      "cell_type": "code",
      "metadata": {
        "execution": {
          "iopub.status.busy": "2021-06-08T18:44:24.831976Z",
          "iopub.execute_input": "2021-06-08T18:44:24.832361Z",
          "iopub.status.idle": "2021-06-08T18:44:24.844329Z",
          "shell.execute_reply.started": "2021-06-08T18:44:24.832329Z",
          "shell.execute_reply": "2021-06-08T18:44:24.843633Z"
        },
        "trusted": true,
        "id": "bx20MrszaF_6",
        "outputId": "4b6a219a-0581-4528-c7f9-4d4f6acdf2bb"
      },
      "source": [
        "def max_lenth(max_l):\n",
        "    max_l = 150\n",
        "    for i in x_train:\n",
        "        if len(i) > max_l: max_l = len(i)\n",
        "    return max_l\n",
        "max_l = max_lenth(df['text'])\n",
        "max_l"
      ],
      "execution_count": null,
      "outputs": [
        {
          "output_type": "execute_result",
          "data": {
            "text/plain": [
              "157"
            ]
          },
          "metadata": {
            "tags": []
          },
          "execution_count": 168
        }
      ]
    },
    {
      "cell_type": "code",
      "metadata": {
        "execution": {
          "iopub.status.busy": "2021-06-08T14:56:41.590977Z",
          "iopub.execute_input": "2021-06-08T14:56:41.591447Z",
          "iopub.status.idle": "2021-06-08T14:56:41.601965Z",
          "shell.execute_reply.started": "2021-06-08T14:56:41.591416Z",
          "shell.execute_reply": "2021-06-08T14:56:41.601328Z"
        },
        "trusted": true,
        "id": "NGc__BoYaF_6",
        "outputId": "f7963e60-f133-4810-eba1-af2cf215d5e3"
      },
      "source": [
        "from sklearn.model_selection import train_test_split\n",
        "x_train, x_test, y_train, y_test = train_test_split(\n",
        "                                    df['text'], df['target'], test_size=0.33, random_state=42)\n",
        "x_train.shape, x_test.shape, y_train.shape, y_test.shape"
      ],
      "execution_count": null,
      "outputs": [
        {
          "output_type": "execute_result",
          "data": {
            "text/plain": [
              "((5100,), (2513,), (5100,), (2513,))"
            ]
          },
          "metadata": {
            "tags": []
          },
          "execution_count": 121
        }
      ]
    },
    {
      "cell_type": "code",
      "metadata": {
        "execution": {
          "iopub.status.busy": "2021-06-08T14:57:01.646262Z",
          "iopub.execute_input": "2021-06-08T14:57:01.646804Z",
          "iopub.status.idle": "2021-06-08T14:57:01.650496Z",
          "shell.execute_reply.started": "2021-06-08T14:57:01.646754Z",
          "shell.execute_reply": "2021-06-08T14:57:01.649783Z"
        },
        "trusted": true,
        "id": "E6nNTrpVaF_7"
      },
      "source": [
        "# Find the maximum length of any caption in our dataset\n",
        "def calc_max_length(tensor):\n",
        "    return max(len(t) for t in tensor)"
      ],
      "execution_count": null,
      "outputs": []
    },
    {
      "cell_type": "code",
      "metadata": {
        "execution": {
          "iopub.status.busy": "2021-06-08T14:57:02.035832Z",
          "iopub.execute_input": "2021-06-08T14:57:02.036311Z",
          "iopub.status.idle": "2021-06-08T14:57:02.180761Z",
          "shell.execute_reply.started": "2021-06-08T14:57:02.036280Z",
          "shell.execute_reply": "2021-06-08T14:57:02.179752Z"
        },
        "trusted": true,
        "id": "5UhjI6C4aF_7"
      },
      "source": [
        "# Choose the top 600 words from the vocabulary\n",
        "top_k = 600\n",
        "tokenizer = tf.keras.preprocessing.text.Tokenizer(num_words=top_k,\n",
        "                                                  oov_token=\"<unk>\",\n",
        "                                                  filters='!\"#$%&()*+.,-/:;=?@[\\]^_`{|}~ ')\n",
        "tokenizer.fit_on_texts(x_train)"
      ],
      "execution_count": null,
      "outputs": []
    },
    {
      "cell_type": "code",
      "metadata": {
        "execution": {
          "iopub.status.busy": "2021-06-08T14:57:02.615658Z",
          "iopub.execute_input": "2021-06-08T14:57:02.616026Z",
          "iopub.status.idle": "2021-06-08T14:57:02.768094Z",
          "shell.execute_reply.started": "2021-06-08T14:57:02.615991Z",
          "shell.execute_reply": "2021-06-08T14:57:02.767135Z"
        },
        "trusted": true,
        "id": "d_dQAb6MaF_7"
      },
      "source": [
        "# Create the tokenized vectors\n",
        "x_train_seqs = tokenizer.texts_to_sequences(x_train)\n",
        "X_train = tf.keras.preprocessing.sequence.pad_sequences(x_train_seqs, maxlen=max_l)"
      ],
      "execution_count": null,
      "outputs": []
    },
    {
      "cell_type": "code",
      "metadata": {
        "execution": {
          "iopub.status.busy": "2021-06-08T14:57:04.567993Z",
          "iopub.execute_input": "2021-06-08T14:57:04.568376Z",
          "iopub.status.idle": "2021-06-08T14:57:04.646252Z",
          "shell.execute_reply.started": "2021-06-08T14:57:04.568342Z",
          "shell.execute_reply": "2021-06-08T14:57:04.645278Z"
        },
        "trusted": true,
        "id": "wTGScQOwaF_8"
      },
      "source": [
        "# Pad each vector to the max_length of the captions\n",
        "# If you do not provide a max_length value, pad_sequences calculates it automatically\n",
        "x_test_seqs = tokenizer.texts_to_sequences(x_test)\n",
        "X_test = tf.keras.preprocessing.sequence.pad_sequences(x_test_seqs, maxlen=max_l)"
      ],
      "execution_count": null,
      "outputs": []
    },
    {
      "cell_type": "code",
      "metadata": {
        "execution": {
          "iopub.status.busy": "2021-06-08T14:57:04.938060Z",
          "iopub.execute_input": "2021-06-08T14:57:04.938454Z",
          "iopub.status.idle": "2021-06-08T14:57:04.943392Z",
          "shell.execute_reply.started": "2021-06-08T14:57:04.938419Z",
          "shell.execute_reply": "2021-06-08T14:57:04.942640Z"
        },
        "trusted": true,
        "id": "K-cdzL3caF_8",
        "outputId": "b3976b5c-01ca-4448-ceb9-a2644b6b790e"
      },
      "source": [
        "X_train.shape,y_train.shape"
      ],
      "execution_count": null,
      "outputs": [
        {
          "output_type": "execute_result",
          "data": {
            "text/plain": [
              "((5100, 157), (5100,))"
            ]
          },
          "metadata": {
            "tags": []
          },
          "execution_count": 132
        }
      ]
    },
    {
      "cell_type": "code",
      "metadata": {
        "execution": {
          "iopub.status.busy": "2021-06-08T14:57:05.277988Z",
          "iopub.execute_input": "2021-06-08T14:57:05.278349Z",
          "iopub.status.idle": "2021-06-08T14:57:05.283347Z",
          "shell.execute_reply.started": "2021-06-08T14:57:05.278318Z",
          "shell.execute_reply": "2021-06-08T14:57:05.282452Z"
        },
        "trusted": true,
        "id": "UZjqijw0aF_9"
      },
      "source": [
        "import tensorflow as tf\n",
        "import keras.backend as K\n",
        "from keras.preprocessing import sequence\n",
        "from keras.models import Sequential\n",
        "from keras.layers import Dense, Activation, Embedding\n",
        "from keras.layers import LSTM, GRU, SimpleRNN\n",
        "from keras.datasets import imdb"
      ],
      "execution_count": null,
      "outputs": []
    },
    {
      "cell_type": "code",
      "metadata": {
        "execution": {
          "iopub.status.busy": "2021-06-08T14:57:15.269768Z",
          "iopub.execute_input": "2021-06-08T14:57:15.270117Z",
          "iopub.status.idle": "2021-06-08T14:57:15.524813Z",
          "shell.execute_reply.started": "2021-06-08T14:57:15.270089Z",
          "shell.execute_reply": "2021-06-08T14:57:15.523916Z"
        },
        "trusted": true,
        "id": "i-NON4KIaF_9"
      },
      "source": [
        "model = Sequential()\n",
        "\n",
        "model.add(Embedding(top_k, 600))\n",
        "model.add(LSTM(25, dropout = 0.3))\n",
        "model.add(Dense(1, activation = 'sigmoid'))\n",
        "model.compile(loss = 'binary_crossentropy',\n",
        "              optimizer = 'adam',\n",
        "              metrics = ['accuracy', 'AUC'])"
      ],
      "execution_count": null,
      "outputs": []
    },
    {
      "cell_type": "code",
      "metadata": {
        "execution": {
          "iopub.status.busy": "2021-06-08T14:57:53.698589Z",
          "iopub.execute_input": "2021-06-08T14:57:53.698901Z",
          "iopub.status.idle": "2021-06-08T15:23:30.840867Z",
          "shell.execute_reply.started": "2021-06-08T14:57:53.698874Z",
          "shell.execute_reply": "2021-06-08T15:23:30.840011Z"
        },
        "trusted": true,
        "id": "Syt6HG3KaF_9",
        "outputId": "69d81c33-7b89-4f8e-affd-8f6f5b096c3e"
      },
      "source": [
        "#Training\n",
        "%%time\n",
        "history = model.fit(X_train, y_train, \n",
        "                    batch_size = 5,\n",
        "                    epochs = 20,\n",
        "                    validation_data = (X_test, y_test),\n",
        "                    verbose = 1, callbacks=[history]   )"
      ],
      "execution_count": null,
      "outputs": [
        {
          "output_type": "stream",
          "text": [
            "Epoch 1/20\n",
            "1020/1020 [==============================] - 79s 76ms/step - loss: 0.5857 - accuracy: 0.6798 - auc: 0.7317 - val_loss: 0.4608 - val_accuracy: 0.7971 - val_auc: 0.8476\n",
            "Epoch 2/20\n",
            "1020/1020 [==============================] - 76s 75ms/step - loss: 0.3787 - accuracy: 0.8464 - auc: 0.9011 - val_loss: 0.4659 - val_accuracy: 0.7895 - val_auc: 0.8504\n",
            "Epoch 3/20\n",
            "1020/1020 [==============================] - 76s 74ms/step - loss: 0.3358 - accuracy: 0.8579 - auc: 0.9226 - val_loss: 0.4900 - val_accuracy: 0.7855 - val_auc: 0.8363\n",
            "Epoch 4/20\n",
            "1020/1020 [==============================] - 77s 76ms/step - loss: 0.2814 - accuracy: 0.8891 - auc: 0.9443 - val_loss: 0.5867 - val_accuracy: 0.7776 - val_auc: 0.8353\n",
            "Epoch 5/20\n",
            "1020/1020 [==============================] - 79s 77ms/step - loss: 0.2494 - accuracy: 0.8961 - auc: 0.9567 - val_loss: 0.6514 - val_accuracy: 0.7728 - val_auc: 0.8291\n",
            "Epoch 6/20\n",
            "1020/1020 [==============================] - 75s 74ms/step - loss: 0.2083 - accuracy: 0.9115 - auc: 0.9707 - val_loss: 0.6593 - val_accuracy: 0.7784 - val_auc: 0.8275\n",
            "Epoch 7/20\n",
            "1020/1020 [==============================] - 80s 78ms/step - loss: 0.1629 - accuracy: 0.9363 - auc: 0.9831 - val_loss: 0.6700 - val_accuracy: 0.7736 - val_auc: 0.8164\n",
            "Epoch 8/20\n",
            "1020/1020 [==============================] - 79s 77ms/step - loss: 0.1331 - accuracy: 0.9525 - auc: 0.9888 - val_loss: 0.8367 - val_accuracy: 0.7668 - val_auc: 0.8152\n",
            "Epoch 9/20\n",
            "1020/1020 [==============================] - 77s 76ms/step - loss: 0.1158 - accuracy: 0.9543 - auc: 0.9915 - val_loss: 0.8791 - val_accuracy: 0.7624 - val_auc: 0.8166\n",
            "Epoch 10/20\n",
            "1020/1020 [==============================] - 77s 76ms/step - loss: 0.1056 - accuracy: 0.9573 - auc: 0.9932 - val_loss: 0.9955 - val_accuracy: 0.7604 - val_auc: 0.8071\n",
            "Epoch 11/20\n",
            "1020/1020 [==============================] - 77s 76ms/step - loss: 0.0815 - accuracy: 0.9675 - auc: 0.9959 - val_loss: 1.0498 - val_accuracy: 0.7573 - val_auc: 0.8010\n",
            "Epoch 12/20\n",
            "1020/1020 [==============================] - 77s 75ms/step - loss: 0.0817 - accuracy: 0.9668 - auc: 0.9959 - val_loss: 1.0255 - val_accuracy: 0.7366 - val_auc: 0.8012\n",
            "Epoch 13/20\n",
            "1020/1020 [==============================] - 77s 75ms/step - loss: 0.0694 - accuracy: 0.9705 - auc: 0.9971 - val_loss: 1.0814 - val_accuracy: 0.7589 - val_auc: 0.8036\n",
            "Epoch 14/20\n",
            "1020/1020 [==============================] - 75s 74ms/step - loss: 0.0586 - accuracy: 0.9780 - auc: 0.9980 - val_loss: 1.0979 - val_accuracy: 0.7569 - val_auc: 0.8022\n",
            "Epoch 15/20\n",
            "1020/1020 [==============================] - 76s 75ms/step - loss: 0.0535 - accuracy: 0.9788 - auc: 0.9984 - val_loss: 1.1926 - val_accuracy: 0.7577 - val_auc: 0.8015\n",
            "Epoch 16/20\n",
            "1020/1020 [==============================] - 78s 76ms/step - loss: 0.0755 - accuracy: 0.9715 - auc: 0.9963 - val_loss: 1.1221 - val_accuracy: 0.7493 - val_auc: 0.7972\n",
            "Epoch 17/20\n",
            "1020/1020 [==============================] - 76s 74ms/step - loss: 0.0562 - accuracy: 0.9780 - auc: 0.9978 - val_loss: 1.2263 - val_accuracy: 0.7581 - val_auc: 0.7951\n",
            "Epoch 18/20\n",
            "1020/1020 [==============================] - 76s 74ms/step - loss: 0.0471 - accuracy: 0.9795 - auc: 0.9988 - val_loss: 1.1225 - val_accuracy: 0.7533 - val_auc: 0.8037\n",
            "Epoch 19/20\n",
            "1020/1020 [==============================] - 75s 74ms/step - loss: 0.0429 - accuracy: 0.9821 - auc: 0.9990 - val_loss: 1.2817 - val_accuracy: 0.7569 - val_auc: 0.7919\n",
            "Epoch 20/20\n",
            "1020/1020 [==============================] - 74s 73ms/step - loss: 0.0439 - accuracy: 0.9827 - auc: 0.9988 - val_loss: 1.1654 - val_accuracy: 0.7477 - val_auc: 0.7982\n",
            "CPU times: user 1h 10min 26s, sys: 6min 2s, total: 1h 16min 29s\n",
            "Wall time: 25min 37s\n"
          ],
          "name": "stdout"
        }
      ]
    },
    {
      "cell_type": "code",
      "metadata": {
        "execution": {
          "iopub.status.busy": "2021-06-08T15:37:35.827323Z",
          "iopub.execute_input": "2021-06-08T15:37:35.827673Z",
          "iopub.status.idle": "2021-06-08T15:37:41.606038Z",
          "shell.execute_reply.started": "2021-06-08T15:37:35.827645Z",
          "shell.execute_reply": "2021-06-08T15:37:41.605161Z"
        },
        "trusted": true,
        "id": "EiuJszWZaF_-",
        "outputId": "d9d62910-ed1e-4bba-e427-1f7527450b29"
      },
      "source": [
        "model.evaluate(X_test,y_test,batch_size=5)"
      ],
      "execution_count": null,
      "outputs": [
        {
          "output_type": "stream",
          "text": [
            "503/503 [==============================] - 6s 11ms/step - loss: 1.1654 - accuracy: 0.7477 - auc: 0.7982\n"
          ],
          "name": "stdout"
        },
        {
          "output_type": "execute_result",
          "data": {
            "text/plain": [
              "[1.1653943061828613, 0.7477118968963623, 0.798201322555542]"
            ]
          },
          "metadata": {
            "tags": []
          },
          "execution_count": 137
        }
      ]
    },
    {
      "cell_type": "code",
      "metadata": {
        "execution": {
          "iopub.status.busy": "2021-06-08T15:37:44.945706Z",
          "iopub.execute_input": "2021-06-08T15:37:44.946031Z",
          "iopub.status.idle": "2021-06-08T15:37:47.872092Z",
          "shell.execute_reply.started": "2021-06-08T15:37:44.946003Z",
          "shell.execute_reply": "2021-06-08T15:37:47.871161Z"
        },
        "trusted": true,
        "id": "cwhbJQkZaF_-"
      },
      "source": [
        "y_pred = model.predict(X_test)"
      ],
      "execution_count": null,
      "outputs": []
    },
    {
      "cell_type": "code",
      "metadata": {
        "execution": {
          "iopub.status.busy": "2021-06-08T17:38:44.161305Z",
          "iopub.execute_input": "2021-06-08T17:38:44.161897Z",
          "iopub.status.idle": "2021-06-08T17:38:54.858191Z",
          "shell.execute_reply.started": "2021-06-08T17:38:44.161848Z",
          "shell.execute_reply": "2021-06-08T17:38:54.857267Z"
        },
        "trusted": true,
        "id": "-GjLzTovaF__",
        "outputId": "024dc864-2859-4b93-c809-313630adf362"
      },
      "source": [
        "y_pred_val = np.round(model.predict(X_valid)).astype(int)\n",
        "y_pred_val"
      ],
      "execution_count": null,
      "outputs": [
        {
          "output_type": "execute_result",
          "data": {
            "text/plain": [
              "array([[1],\n",
              "       [1],\n",
              "       [0],\n",
              "       ...,\n",
              "       [1],\n",
              "       [1],\n",
              "       [0]])"
            ]
          },
          "metadata": {
            "tags": []
          },
          "execution_count": 153
        }
      ]
    },
    {
      "cell_type": "markdown",
      "metadata": {
        "id": "TANJ0y0caF__"
      },
      "source": [
        "## Validation prediction "
      ]
    },
    {
      "cell_type": "code",
      "metadata": {
        "execution": {
          "iopub.status.busy": "2021-06-08T15:37:51.626799Z",
          "iopub.execute_input": "2021-06-08T15:37:51.627148Z",
          "iopub.status.idle": "2021-06-08T15:37:51.649635Z",
          "shell.execute_reply.started": "2021-06-08T15:37:51.627118Z",
          "shell.execute_reply": "2021-06-08T15:37:51.648865Z"
        },
        "trusted": true,
        "id": "Gs0XBeFSaF__"
      },
      "source": [
        "df_test = pd.read_csv('../input/nlp-getting-started/test.csv')"
      ],
      "execution_count": null,
      "outputs": []
    },
    {
      "cell_type": "code",
      "metadata": {
        "execution": {
          "iopub.status.busy": "2021-06-08T15:37:52.169824Z",
          "iopub.execute_input": "2021-06-08T15:37:52.170352Z",
          "iopub.status.idle": "2021-06-08T15:37:52.184858Z",
          "shell.execute_reply.started": "2021-06-08T15:37:52.170318Z",
          "shell.execute_reply": "2021-06-08T15:37:52.183713Z"
        },
        "trusted": true,
        "id": "gfSEw5CxaF__",
        "outputId": "3e58b66d-34aa-4810-b45b-a3732e219f86"
      },
      "source": [
        "df_test"
      ],
      "execution_count": null,
      "outputs": [
        {
          "output_type": "execute_result",
          "data": {
            "text/plain": [
              "         id keyword location  \\\n",
              "0         0     NaN      NaN   \n",
              "1         2     NaN      NaN   \n",
              "2         3     NaN      NaN   \n",
              "3         9     NaN      NaN   \n",
              "4        11     NaN      NaN   \n",
              "...     ...     ...      ...   \n",
              "3258  10861     NaN      NaN   \n",
              "3259  10865     NaN      NaN   \n",
              "3260  10868     NaN      NaN   \n",
              "3261  10874     NaN      NaN   \n",
              "3262  10875     NaN      NaN   \n",
              "\n",
              "                                                   text  \n",
              "0                    Just happened a terrible car crash  \n",
              "1     Heard about #earthquake is different cities, s...  \n",
              "2     there is a forest fire at spot pond, geese are...  \n",
              "3              Apocalypse lighting. #Spokane #wildfires  \n",
              "4         Typhoon Soudelor kills 28 in China and Taiwan  \n",
              "...                                                 ...  \n",
              "3258  EARTHQUAKE SAFETY LOS ANGELES ÛÒ SAFETY FASTE...  \n",
              "3259  Storm in RI worse than last hurricane. My city...  \n",
              "3260  Green Line derailment in Chicago http://t.co/U...  \n",
              "3261  MEG issues Hazardous Weather Outlook (HWO) htt...  \n",
              "3262  #CityofCalgary has activated its Municipal Eme...  \n",
              "\n",
              "[3263 rows x 4 columns]"
            ],
            "text/html": [
              "<div>\n",
              "<style scoped>\n",
              "    .dataframe tbody tr th:only-of-type {\n",
              "        vertical-align: middle;\n",
              "    }\n",
              "\n",
              "    .dataframe tbody tr th {\n",
              "        vertical-align: top;\n",
              "    }\n",
              "\n",
              "    .dataframe thead th {\n",
              "        text-align: right;\n",
              "    }\n",
              "</style>\n",
              "<table border=\"1\" class=\"dataframe\">\n",
              "  <thead>\n",
              "    <tr style=\"text-align: right;\">\n",
              "      <th></th>\n",
              "      <th>id</th>\n",
              "      <th>keyword</th>\n",
              "      <th>location</th>\n",
              "      <th>text</th>\n",
              "    </tr>\n",
              "  </thead>\n",
              "  <tbody>\n",
              "    <tr>\n",
              "      <th>0</th>\n",
              "      <td>0</td>\n",
              "      <td>NaN</td>\n",
              "      <td>NaN</td>\n",
              "      <td>Just happened a terrible car crash</td>\n",
              "    </tr>\n",
              "    <tr>\n",
              "      <th>1</th>\n",
              "      <td>2</td>\n",
              "      <td>NaN</td>\n",
              "      <td>NaN</td>\n",
              "      <td>Heard about #earthquake is different cities, s...</td>\n",
              "    </tr>\n",
              "    <tr>\n",
              "      <th>2</th>\n",
              "      <td>3</td>\n",
              "      <td>NaN</td>\n",
              "      <td>NaN</td>\n",
              "      <td>there is a forest fire at spot pond, geese are...</td>\n",
              "    </tr>\n",
              "    <tr>\n",
              "      <th>3</th>\n",
              "      <td>9</td>\n",
              "      <td>NaN</td>\n",
              "      <td>NaN</td>\n",
              "      <td>Apocalypse lighting. #Spokane #wildfires</td>\n",
              "    </tr>\n",
              "    <tr>\n",
              "      <th>4</th>\n",
              "      <td>11</td>\n",
              "      <td>NaN</td>\n",
              "      <td>NaN</td>\n",
              "      <td>Typhoon Soudelor kills 28 in China and Taiwan</td>\n",
              "    </tr>\n",
              "    <tr>\n",
              "      <th>...</th>\n",
              "      <td>...</td>\n",
              "      <td>...</td>\n",
              "      <td>...</td>\n",
              "      <td>...</td>\n",
              "    </tr>\n",
              "    <tr>\n",
              "      <th>3258</th>\n",
              "      <td>10861</td>\n",
              "      <td>NaN</td>\n",
              "      <td>NaN</td>\n",
              "      <td>EARTHQUAKE SAFETY LOS ANGELES ÛÒ SAFETY FASTE...</td>\n",
              "    </tr>\n",
              "    <tr>\n",
              "      <th>3259</th>\n",
              "      <td>10865</td>\n",
              "      <td>NaN</td>\n",
              "      <td>NaN</td>\n",
              "      <td>Storm in RI worse than last hurricane. My city...</td>\n",
              "    </tr>\n",
              "    <tr>\n",
              "      <th>3260</th>\n",
              "      <td>10868</td>\n",
              "      <td>NaN</td>\n",
              "      <td>NaN</td>\n",
              "      <td>Green Line derailment in Chicago http://t.co/U...</td>\n",
              "    </tr>\n",
              "    <tr>\n",
              "      <th>3261</th>\n",
              "      <td>10874</td>\n",
              "      <td>NaN</td>\n",
              "      <td>NaN</td>\n",
              "      <td>MEG issues Hazardous Weather Outlook (HWO) htt...</td>\n",
              "    </tr>\n",
              "    <tr>\n",
              "      <th>3262</th>\n",
              "      <td>10875</td>\n",
              "      <td>NaN</td>\n",
              "      <td>NaN</td>\n",
              "      <td>#CityofCalgary has activated its Municipal Eme...</td>\n",
              "    </tr>\n",
              "  </tbody>\n",
              "</table>\n",
              "<p>3263 rows × 4 columns</p>\n",
              "</div>"
            ]
          },
          "metadata": {
            "tags": []
          },
          "execution_count": 140
        }
      ]
    },
    {
      "cell_type": "code",
      "metadata": {
        "execution": {
          "iopub.status.busy": "2021-06-08T15:37:54.160030Z",
          "iopub.execute_input": "2021-06-08T15:37:54.160445Z",
          "iopub.status.idle": "2021-06-08T15:37:54.164678Z",
          "shell.execute_reply.started": "2021-06-08T15:37:54.160412Z",
          "shell.execute_reply": "2021-06-08T15:37:54.163671Z"
        },
        "trusted": true,
        "id": "FMlAEaL_aGAA"
      },
      "source": [
        "x_valid = df_test['text']"
      ],
      "execution_count": null,
      "outputs": []
    },
    {
      "cell_type": "code",
      "metadata": {
        "execution": {
          "iopub.status.busy": "2021-06-08T15:37:54.612947Z",
          "iopub.execute_input": "2021-06-08T15:37:54.613300Z",
          "iopub.status.idle": "2021-06-08T15:37:54.718289Z",
          "shell.execute_reply.started": "2021-06-08T15:37:54.613270Z",
          "shell.execute_reply": "2021-06-08T15:37:54.717446Z"
        },
        "trusted": true,
        "id": "zoVUq6GTaGAA"
      },
      "source": [
        "x_valid_seqs = tokenizer.texts_to_sequences(x_valid)\n",
        "X_valid = tf.keras.preprocessing.sequence.pad_sequences(x_valid_seqs, maxlen=max_l)"
      ],
      "execution_count": null,
      "outputs": []
    },
    {
      "cell_type": "code",
      "metadata": {
        "execution": {
          "iopub.status.busy": "2021-06-08T15:37:56.834550Z",
          "iopub.execute_input": "2021-06-08T15:37:56.835072Z",
          "iopub.status.idle": "2021-06-08T15:38:00.128959Z",
          "shell.execute_reply.started": "2021-06-08T15:37:56.835038Z",
          "shell.execute_reply": "2021-06-08T15:38:00.128113Z"
        },
        "trusted": true,
        "id": "lMFeYJsOaGAA",
        "outputId": "2e3effaf-3084-4d50-f1b4-58133ddd711e"
      },
      "source": [
        "y_pred_val = np.round(model.predict(X_valid)).astype(int)\n",
        "y_pred_val"
      ],
      "execution_count": null,
      "outputs": [
        {
          "output_type": "execute_result",
          "data": {
            "text/plain": [
              "array([[1],\n",
              "       [1],\n",
              "       [1],\n",
              "       ...,\n",
              "       [1],\n",
              "       [1],\n",
              "       [0]])"
            ]
          },
          "metadata": {
            "tags": []
          },
          "execution_count": 143
        }
      ]
    },
    {
      "cell_type": "code",
      "metadata": {
        "execution": {
          "iopub.status.busy": "2021-06-08T15:38:21.733029Z",
          "iopub.execute_input": "2021-06-08T15:38:21.733391Z",
          "iopub.status.idle": "2021-06-08T15:38:21.745386Z",
          "shell.execute_reply.started": "2021-06-08T15:38:21.733361Z",
          "shell.execute_reply": "2021-06-08T15:38:21.744449Z"
        },
        "trusted": true,
        "id": "Id9EFF8RaGAB"
      },
      "source": [
        "df_test['target']=y_pred_val\n",
        "df_test[['id','target']].to_csv('sample_submission2.csv',index=False)"
      ],
      "execution_count": null,
      "outputs": []
    },
    {
      "cell_type": "code",
      "metadata": {
        "execution": {
          "iopub.status.busy": "2021-06-08T11:24:31.747545Z",
          "iopub.execute_input": "2021-06-08T11:24:31.748035Z",
          "iopub.status.idle": "2021-06-08T11:24:31.752715Z",
          "shell.execute_reply.started": "2021-06-08T11:24:31.747993Z",
          "shell.execute_reply": "2021-06-08T11:24:31.751899Z"
        },
        "trusted": true,
        "id": "c17Ey4v5aGAB",
        "outputId": "39db1be4-17cb-47c8-f6a4-1bed41a66de4"
      },
      "source": [
        ""
      ],
      "execution_count": null,
      "outputs": [
        {
          "output_type": "execute_result",
          "data": {
            "text/plain": [
              "keras_preprocessing.text.Tokenizer"
            ]
          },
          "metadata": {
            "tags": []
          },
          "execution_count": 21
        }
      ]
    }
  ]
}